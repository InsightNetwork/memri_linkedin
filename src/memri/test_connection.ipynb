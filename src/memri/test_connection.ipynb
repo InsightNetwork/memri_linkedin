{
 "cells": [
  {
   "attachments": {},
   "cell_type": "markdown",
   "metadata": {},
   "source": [
    "# Schema"
   ]
  },
  {
   "cell_type": "code",
   "execution_count": null,
   "metadata": {},
   "outputs": [],
   "source": [
    "from typing import Optional, List\n",
    "from pymemri.data.schema import Item, Edge, Person, Account, Message\n",
    "from pymemri.pod.client import PodClient\n",
    "\n",
    "\n",
    "# class Person(Item):\n",
    "#     # Properties\n",
    "#     username: str\n",
    "#     fullname: Optional[str] = None\n",
    "#     location: Optional[str] = None\n",
    "#     description: Optional[str] = None\n",
    "\n",
    "#     # Edges\n",
    "#     friends: List[\"Person\"] = []\n",
    "\n",
    "\n",
    "client = PodClient(owner_key=\"111\", database_key=\"222\")\n",
    "client.add_to_schema(Account, Person, Message)\n",
    "\n",
    "client.api.create_item(\n",
    "    {\n",
    "        \"type\": \"ItemEdgeSchema\",\n",
    "        \"edgeName\": \"sender\",\n",
    "        \"sourceType\": \"Message\",\n",
    "        \"targetType\": \"Account\",\n",
    "    }\n",
    ")\n",
    "client.api.create_item(\n",
    "    {\n",
    "        \"type\": \"ItemEdgeSchema\",\n",
    "        \"edgeName\": \"owner\",\n",
    "        \"sourceType\": \"Account\",\n",
    "        \"targetType\": \"Person\",\n",
    "    }\n",
    ")\n",
    "\n",
    "# Create dummy data\n",
    "person = Person(displayName=\"Alice\")\n",
    "accounts = [\n",
    "    Account(displayName=\"Alice\", service=\"whatsapp\"),\n",
    "    Account(displayName=\"Alice\", service=\"instagram\"),\n",
    "    Account(displayName=\"Alice\", service=\"gmail\"),\n",
    "]\n",
    "\n",
    "message = Message(service=\"whatsapp\", subject=\"Hello\")\n",
    "edges = [Edge(account, person, \"owner\") for account in accounts]\n",
    "edges += [Edge(message, accounts[0], \"sender\")]\n",
    "client.bulk_action(create_items=accounts + [person, message], create_edges=edges)\n",
    "\n",
    "# Create data for search\n",
    "# search_accounts = [Account(displayName=str(i), service=\"search\") for i in range(100)]\n",
    "# client.bulk_action(create_items=search_accounts)\n",
    "\n",
    "\n"
   ]
  },
  {
   "attachments": {},
   "cell_type": "markdown",
   "metadata": {},
   "source": [
    "# Data"
   ]
  },
  {
   "cell_type": "code",
   "execution_count": null,
   "metadata": {},
   "outputs": [],
   "source": [
    "# items = []\n",
    "# edges = []\n",
    "\n",
    "# p11 = Person(username=\"p11\")\n",
    "# p12 = Person(username=\"p12\")\n",
    "\n",
    "# items.append(p11)\n",
    "# items.append(p12)\n",
    "\n",
    "# edges.append(Edge(p11, p12, \"friends\"))\n",
    "\n",
    "# client.bulk_action(create_items=items, create_edges=edges)\n",
    "#client.sync()"
   ]
  },
  {
   "cell_type": "code",
   "execution_count": null,
   "metadata": {},
   "outputs": [],
   "source": [
    "\n",
    "\n",
    "# edge = Edge(p1, p2, \"sender\")\n",
    "# client.create_edge(edge)\n",
    "# client.sync()"
   ]
  },
  {
   "attachments": {},
   "cell_type": "markdown",
   "metadata": {},
   "source": [
    "# Fetching data"
   ]
  },
  {
   "cell_type": "code",
   "execution_count": 1,
   "metadata": {},
   "outputs": [
    {
     "ename": "TypeError",
     "evalue": "NooPerson is not a known schema model",
     "output_type": "error",
     "traceback": [
      "\u001b[0;31m---------------------------------------------------------------------------\u001b[0m",
      "\u001b[0;31mTypeError\u001b[0m                                 Traceback (most recent call last)",
      "Cell \u001b[0;32mIn[1], line 7\u001b[0m\n\u001b[1;32m      2\u001b[0m client2 \u001b[39m=\u001b[39m PodClient(owner_key\u001b[39m=\u001b[39m\u001b[39m\"\u001b[39m\u001b[39m111\u001b[39m\u001b[39m\"\u001b[39m, database_key\u001b[39m=\u001b[39m\u001b[39m\"\u001b[39m\u001b[39m222\u001b[39m\u001b[39m\"\u001b[39m, create_account\u001b[39m=\u001b[39m\u001b[39mFalse\u001b[39;00m)\n\u001b[1;32m      4\u001b[0m \u001b[39m# a = client2.search({\"itemType\": \"NooPerson\"}, include_edges=False)\u001b[39;00m\n\u001b[1;32m      5\u001b[0m \u001b[39m# [print(i.propertyName) for i in a]\u001b[39;00m\n\u001b[0;32m----> 7\u001b[0m a \u001b[39m=\u001b[39m client2\u001b[39m.\u001b[39;49msearch({\u001b[39m\"\u001b[39;49m\u001b[39mtype\u001b[39;49m\u001b[39m\"\u001b[39;49m: \u001b[39m\"\u001b[39;49m\u001b[39mNooPerson\u001b[39;49m\u001b[39m\"\u001b[39;49m}, include_edges\u001b[39m=\u001b[39;49m\u001b[39mFalse\u001b[39;49;00m)\n\u001b[1;32m      8\u001b[0m \u001b[39mprint\u001b[39m(a)\n",
      "File \u001b[0;32m/opt/anaconda3/envs/memri/lib/python3.9/site-packages/pymemri/pod/client.py:471\u001b[0m, in \u001b[0;36mPodClient.search\u001b[0;34m(self, fields_data, include_edges, add_to_local_db, priority)\u001b[0m\n\u001b[1;32m    468\u001b[0m     \u001b[39mexcept\u001b[39;00m PodError \u001b[39mas\u001b[39;00m e:\n\u001b[1;32m    469\u001b[0m         logger\u001b[39m.\u001b[39merror(e)\n\u001b[0;32m--> 471\u001b[0m result \u001b[39m=\u001b[39m [\n\u001b[1;32m    472\u001b[0m     \u001b[39mself\u001b[39m\u001b[39m.\u001b[39m_item_from_search(item, add_to_local_db\u001b[39m=\u001b[39madd_to_local_db, priority\u001b[39m=\u001b[39mpriority)\n\u001b[1;32m    473\u001b[0m     \u001b[39mfor\u001b[39;00m item \u001b[39min\u001b[39;00m result\n\u001b[1;32m    474\u001b[0m ]\n\u001b[1;32m    475\u001b[0m \u001b[39mreturn\u001b[39;00m \u001b[39mself\u001b[39m\u001b[39m.\u001b[39mfilter_deleted(result)\n",
      "File \u001b[0;32m/opt/anaconda3/envs/memri/lib/python3.9/site-packages/pymemri/pod/client.py:472\u001b[0m, in \u001b[0;36m<listcomp>\u001b[0;34m(.0)\u001b[0m\n\u001b[1;32m    468\u001b[0m     \u001b[39mexcept\u001b[39;00m PodError \u001b[39mas\u001b[39;00m e:\n\u001b[1;32m    469\u001b[0m         logger\u001b[39m.\u001b[39merror(e)\n\u001b[1;32m    471\u001b[0m result \u001b[39m=\u001b[39m [\n\u001b[0;32m--> 472\u001b[0m     \u001b[39mself\u001b[39;49m\u001b[39m.\u001b[39;49m_item_from_search(item, add_to_local_db\u001b[39m=\u001b[39;49madd_to_local_db, priority\u001b[39m=\u001b[39;49mpriority)\n\u001b[1;32m    473\u001b[0m     \u001b[39mfor\u001b[39;00m item \u001b[39min\u001b[39;00m result\n\u001b[1;32m    474\u001b[0m ]\n\u001b[1;32m    475\u001b[0m \u001b[39mreturn\u001b[39;00m \u001b[39mself\u001b[39m\u001b[39m.\u001b[39mfilter_deleted(result)\n",
      "File \u001b[0;32m/opt/anaconda3/envs/memri/lib/python3.9/site-packages/pymemri/pod/client.py:480\u001b[0m, in \u001b[0;36mPodClient._item_from_search\u001b[0;34m(self, item_json, add_to_local_db, priority)\u001b[0m\n\u001b[1;32m    477\u001b[0m \u001b[39mdef\u001b[39;00m \u001b[39m_item_from_search\u001b[39m(\u001b[39mself\u001b[39m, item_json: \u001b[39mdict\u001b[39m, add_to_local_db: \u001b[39mbool\u001b[39m \u001b[39m=\u001b[39m \u001b[39mTrue\u001b[39;00m, priority\u001b[39m=\u001b[39m\u001b[39mNone\u001b[39;00m):\n\u001b[1;32m    478\u001b[0m     \u001b[39m# search returns different fields w.r.t. edges compared to `get` api,\u001b[39;00m\n\u001b[1;32m    479\u001b[0m     \u001b[39m# different method to keep `self.get` clean.\u001b[39;00m\n\u001b[0;32m--> 480\u001b[0m     item \u001b[39m=\u001b[39m \u001b[39mself\u001b[39;49m\u001b[39m.\u001b[39;49mitem_from_json(item_json, add_to_local_db\u001b[39m=\u001b[39;49madd_to_local_db, priority\u001b[39m=\u001b[39;49mpriority)\n\u001b[1;32m    481\u001b[0m     item\u001b[39m.\u001b[39mreset_local_sync_state()\n\u001b[1;32m    483\u001b[0m     \u001b[39mfor\u001b[39;00m edge_json \u001b[39min\u001b[39;00m item_json\u001b[39m.\u001b[39mget(\u001b[39m\"\u001b[39m\u001b[39m[[edges]]\u001b[39m\u001b[39m\"\u001b[39m, []):\n",
      "File \u001b[0;32m/opt/anaconda3/envs/memri/lib/python3.9/site-packages/pymemri/pod/client.py:514\u001b[0m, in \u001b[0;36mPodClient.item_from_json\u001b[0;34m(self, json, add_to_local_db, priority)\u001b[0m\n\u001b[1;32m    506\u001b[0m \u001b[39mdef\u001b[39;00m \u001b[39mitem_from_json\u001b[39m(\n\u001b[1;32m    507\u001b[0m     \u001b[39mself\u001b[39m,\n\u001b[1;32m    508\u001b[0m     json: \u001b[39mdict\u001b[39m,\n\u001b[1;32m    509\u001b[0m     add_to_local_db: \u001b[39mbool\u001b[39m \u001b[39m=\u001b[39m \u001b[39mTrue\u001b[39;00m,\n\u001b[1;32m    510\u001b[0m     priority\u001b[39m=\u001b[39m\u001b[39mNone\u001b[39;00m,\n\u001b[1;32m    511\u001b[0m ) \u001b[39m-\u001b[39m\u001b[39m>\u001b[39m ItemBase:\n\u001b[1;32m    512\u001b[0m     priority \u001b[39m=\u001b[39m Priority(priority) \u001b[39mif\u001b[39;00m priority \u001b[39melse\u001b[39;00m \u001b[39mNone\u001b[39;00m\n\u001b[0;32m--> 514\u001b[0m     item_class \u001b[39m=\u001b[39m get_schema_cls(\n\u001b[1;32m    515\u001b[0m         json[\u001b[39m\"\u001b[39;49m\u001b[39mtype\u001b[39;49m\u001b[39m\"\u001b[39;49m],\n\u001b[1;32m    516\u001b[0m         extra\u001b[39m=\u001b[39;49m\u001b[39mself\u001b[39;49m\u001b[39m.\u001b[39;49mregistered_classes,\n\u001b[1;32m    517\u001b[0m     )\n\u001b[1;32m    519\u001b[0m     new_item \u001b[39m=\u001b[39m item_class\u001b[39m.\u001b[39mfrom_json(json)\n\u001b[1;32m    520\u001b[0m     \u001b[39mif\u001b[39;00m add_to_local_db:\n",
      "File \u001b[0;32m/opt/anaconda3/envs/memri/lib/python3.9/site-packages/pymemri/data/schema/schema.py:40\u001b[0m, in \u001b[0;36mget_schema_cls\u001b[0;34m(cls_name, extra)\u001b[0m\n\u001b[1;32m     38\u001b[0m     \u001b[39mreturn\u001b[39;00m pymemri_schema[cls_name]\n\u001b[1;32m     39\u001b[0m \u001b[39melse\u001b[39;00m:\n\u001b[0;32m---> 40\u001b[0m     \u001b[39mraise\u001b[39;00m \u001b[39mTypeError\u001b[39;00m(\u001b[39mf\u001b[39m\u001b[39m\"\u001b[39m\u001b[39m{\u001b[39;00mcls_name\u001b[39m}\u001b[39;00m\u001b[39m is not a known schema model\u001b[39m\u001b[39m\"\u001b[39m)\n",
      "\u001b[0;31mTypeError\u001b[0m: NooPerson is not a known schema model"
     ]
    }
   ],
   "source": [
    "from pymemri.pod.client import PodClient\n",
    "client2 = PodClient(owner_key=\"111\", database_key=\"222\", create_account=False)\n",
    "\n",
    "# a = client2.search({\"itemType\": \"NooPerson\"}, include_edges=False)\n",
    "# [print(i.propertyName) for i in a]\n",
    "\n",
    "a = client2.search({\"type\": \"NooPerson\"}, include_edges=False)\n",
    "print(a)\n",
    "\n",
    "#client2.get_edges(\"b2cf29b30d0e43f98e1de2990589f226\")\n",
    "\n",
    "# client.search_graphql(\"\"\"\n",
    "#         query {\n",
    "#             Person\n",
    "#         }\n",
    "#     \"\"\",\n",
    "# )\n",
    "\n",
    "# for id, node in client.local_db.nodes.items():\n",
    "#     print(id, node)\n",
    "\n",
    "#client.get_edges(\"e7bae27fbd5a45908d106b08b4091e1e\")"
   ]
  }
 ],
 "metadata": {
  "kernelspec": {
   "display_name": "memri",
   "language": "python",
   "name": "python3"
  },
  "language_info": {
   "codemirror_mode": {
    "name": "ipython",
    "version": 3
   },
   "file_extension": ".py",
   "mimetype": "text/x-python",
   "name": "python",
   "nbconvert_exporter": "python",
   "pygments_lexer": "ipython3",
   "version": "3.9.15"
  },
  "orig_nbformat": 4,
  "vscode": {
   "interpreter": {
    "hash": "b335572f94bb4f6c09c6c43400662bee5d9729e55354783f1c63d7f90e83810b"
   }
  }
 },
 "nbformat": 4,
 "nbformat_minor": 2
}
