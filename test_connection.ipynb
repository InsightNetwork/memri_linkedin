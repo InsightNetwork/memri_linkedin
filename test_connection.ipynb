{
 "cells": [
  {
   "attachments": {},
   "cell_type": "markdown",
   "metadata": {},
   "source": [
    "# Schema"
   ]
  },
  {
   "cell_type": "code",
   "execution_count": 41,
   "metadata": {},
   "outputs": [
    {
     "name": "stderr",
     "output_type": "stream",
     "text": [
      "2023-01-16 09:19:39.035 | INFO     | pymemri.pod.client:bulk_action:289 - BULK: Writing 9/9 items/edges\n",
      "2023-01-16 09:19:39.076 | INFO     | pymemri.pod.client:bulk_action:301 - Completed Bulk action, written 9 items/edges\n",
      "2023-01-16 09:19:39.085 | INFO     | pymemri.pod.client:bulk_action:289 - BULK: Writing 100/100 items/edges\n",
      "2023-01-16 09:19:39.154 | INFO     | pymemri.pod.client:bulk_action:301 - Completed Bulk action, written 100 items/edges\n"
     ]
    },
    {
     "data": {
      "text/plain": [
       "True"
      ]
     },
     "execution_count": 41,
     "metadata": {},
     "output_type": "execute_result"
    }
   ],
   "source": [
    "from typing import Optional, List\n",
    "from pymemri.data.schema import Item, Edge, Person, Account, Message\n",
    "from pymemri.pod.client import PodClient\n",
    "\n",
    "\n",
    "# class Person(Item):\n",
    "#     # Properties\n",
    "#     username: str\n",
    "#     fullname: Optional[str] = None\n",
    "#     location: Optional[str] = None\n",
    "#     description: Optional[str] = None\n",
    "\n",
    "#     # Edges\n",
    "#     friends: List[\"Person\"] = []\n",
    "\n",
    "\n",
    "client = PodClient()\n",
    "client.add_to_schema(Account, Person, Message)\n",
    "\n",
    "client.api.create_item(\n",
    "    {\n",
    "        \"type\": \"ItemEdgeSchema\",\n",
    "        \"edgeName\": \"sender\",\n",
    "        \"sourceType\": \"Message\",\n",
    "        \"targetType\": \"Account\",\n",
    "    }\n",
    ")\n",
    "client.api.create_item(\n",
    "    {\n",
    "        \"type\": \"ItemEdgeSchema\",\n",
    "        \"edgeName\": \"owner\",\n",
    "        \"sourceType\": \"Account\",\n",
    "        \"targetType\": \"Person\",\n",
    "    }\n",
    ")\n",
    "\n",
    "# Create dummy data\n",
    "person = Person(displayName=\"Alice\")\n",
    "accounts = [\n",
    "    Account(displayName=\"Alice\", service=\"whatsapp\"),\n",
    "    Account(displayName=\"Alice\", service=\"instagram\"),\n",
    "    Account(displayName=\"Alice\", service=\"gmail\"),\n",
    "]\n",
    "\n",
    "message = Message(service=\"whatsapp\", subject=\"Hello\")\n",
    "edges = [Edge(account, person, \"owner\") for account in accounts]\n",
    "edges += [Edge(message, accounts[0], \"sender\")]\n",
    "client.bulk_action(create_items=accounts + [person, message], create_edges=edges)\n",
    "\n",
    "# Create data for search\n",
    "search_accounts = [Account(displayName=str(i), service=\"search\") for i in range(100)]\n",
    "client.bulk_action(create_items=search_accounts)\n",
    "\n",
    "\n"
   ]
  },
  {
   "attachments": {},
   "cell_type": "markdown",
   "metadata": {},
   "source": [
    "# Data"
   ]
  },
  {
   "cell_type": "code",
   "execution_count": 42,
   "metadata": {},
   "outputs": [],
   "source": [
    "# items = []\n",
    "# edges = []\n",
    "\n",
    "# p11 = Person(username=\"p11\")\n",
    "# p12 = Person(username=\"p12\")\n",
    "\n",
    "# items.append(p11)\n",
    "# items.append(p12)\n",
    "\n",
    "# edges.append(Edge(p11, p12, \"friends\"))\n",
    "\n",
    "# client.bulk_action(create_items=items, create_edges=edges)\n",
    "#client.sync()"
   ]
  },
  {
   "cell_type": "code",
   "execution_count": 43,
   "metadata": {},
   "outputs": [
    {
     "name": "stderr",
     "output_type": "stream",
     "text": [
      "2023-01-16 09:19:39.216 | ERROR    | pymemri.pod.client:create_edge:321 - 404 Failure: Error 404 Not Found, Edge source not found: 6956ce9715f6426dae10159e72f69319\n",
      "2023-01-16 09:19:39.277 | INFO     | pymemri.pod.client:bulk_action:289 - BULK: Writing 105/105 items/edges\n",
      "2023-01-16 09:19:39.299 | INFO     | pymemri.pod.client:bulk_action:301 - Completed Bulk action, written 105 items/edges\n"
     ]
    },
    {
     "data": {
      "text/plain": [
       "True"
      ]
     },
     "execution_count": 43,
     "metadata": {},
     "output_type": "execute_result"
    }
   ],
   "source": [
    "\n",
    "\n",
    "# edge = Edge(p1, p2, \"sender\")\n",
    "# client.create_edge(edge)\n",
    "# client.sync()"
   ]
  },
  {
   "attachments": {},
   "cell_type": "markdown",
   "metadata": {},
   "source": [
    "# Fetching data"
   ]
  },
  {
   "cell_type": "code",
   "execution_count": 50,
   "metadata": {},
   "outputs": [
    {
     "name": "stdout",
     "output_type": "stream",
     "text": [
      "234a058cf02043e3a90f95eb68a762c3 Account(#234a058cf02043e3a90f95eb68a762c3)\n",
      "c2fe40d3daa24df9ac10770cfe64470a Account(#c2fe40d3daa24df9ac10770cfe64470a)\n",
      "1c9d5c0dae354a65ba5da2f182d808a2 Account(#1c9d5c0dae354a65ba5da2f182d808a2)\n",
      "e7bae27fbd5a45908d106b08b4091e1e Person(#e7bae27fbd5a45908d106b08b4091e1e)\n",
      "5e0ac485633649f894efe73b1a87e9b2 Message(#5e0ac485633649f894efe73b1a87e9b2)\n",
      "19509da72fdd459d884cd00ec5d745ed Account(#19509da72fdd459d884cd00ec5d745ed)\n",
      "e26aaab732484190ae991d58b2c33103 Account(#e26aaab732484190ae991d58b2c33103)\n",
      "5d02a7c0ba064a67918342ab811bc690 Account(#5d02a7c0ba064a67918342ab811bc690)\n",
      "ad07cddd62c743219989666dba39c48a Account(#ad07cddd62c743219989666dba39c48a)\n",
      "079edb6e2d10411188359bc1c303079d Account(#079edb6e2d10411188359bc1c303079d)\n",
      "eb2ac900caca4ba788152f7fead4f78c Account(#eb2ac900caca4ba788152f7fead4f78c)\n",
      "a7c6b0788b9e42558c59658746c3f686 Account(#a7c6b0788b9e42558c59658746c3f686)\n",
      "16d88553751c4d78bfca11e3b0eb25b1 Account(#16d88553751c4d78bfca11e3b0eb25b1)\n",
      "ed7f85e9234c4b40823dcf2ce60efb9b Account(#ed7f85e9234c4b40823dcf2ce60efb9b)\n",
      "cad8055eaea340ec8b4e8c11f491bdff Account(#cad8055eaea340ec8b4e8c11f491bdff)\n",
      "4fcfc43a8d3b4928860aad6e4cd07242 Account(#4fcfc43a8d3b4928860aad6e4cd07242)\n",
      "55e77d35a101480286a81db5a402e0db Account(#55e77d35a101480286a81db5a402e0db)\n",
      "1c1a6ff9a0d24545b6d4904929cb22d6 Account(#1c1a6ff9a0d24545b6d4904929cb22d6)\n",
      "8bce89ca2cad4f709ee404f73161eb2a Account(#8bce89ca2cad4f709ee404f73161eb2a)\n",
      "b12be242788945d3a9dcd73afc33b3ff Account(#b12be242788945d3a9dcd73afc33b3ff)\n",
      "f59802bf6efa444692eda3aa075256b3 Account(#f59802bf6efa444692eda3aa075256b3)\n",
      "e4338bc2d589457a9f63e673cd88a580 Account(#e4338bc2d589457a9f63e673cd88a580)\n",
      "73f43a70d68b4d01bfc81f8e2ed759e2 Account(#73f43a70d68b4d01bfc81f8e2ed759e2)\n",
      "5ff1d7ddc93942289eebeefb538d573a Account(#5ff1d7ddc93942289eebeefb538d573a)\n",
      "2d790279b8e742e4999d85db543b9ed8 Account(#2d790279b8e742e4999d85db543b9ed8)\n",
      "18d5744845bf44619ce25393a1d25da6 Account(#18d5744845bf44619ce25393a1d25da6)\n",
      "d589c77a584a4f32b0bfd0c911f97a9d Account(#d589c77a584a4f32b0bfd0c911f97a9d)\n",
      "8944522164b547b098c9f5e073fa5173 Account(#8944522164b547b098c9f5e073fa5173)\n",
      "7c579c91b91c46189c4c2f2f3ec1b3ab Account(#7c579c91b91c46189c4c2f2f3ec1b3ab)\n",
      "06edad7eebb14f359da2c2a8cb98da3d Account(#06edad7eebb14f359da2c2a8cb98da3d)\n",
      "d2dd7abbfecc4ae78eb21d4f96661df2 Account(#d2dd7abbfecc4ae78eb21d4f96661df2)\n",
      "648a83f1ee99415d944596d09b0c54ad Account(#648a83f1ee99415d944596d09b0c54ad)\n",
      "83e6811c01d949e2b6f068fc9675539d Account(#83e6811c01d949e2b6f068fc9675539d)\n",
      "0bcbcb91e27349f4b57d637fe0f02aa9 Account(#0bcbcb91e27349f4b57d637fe0f02aa9)\n",
      "8608f4e9f8af4e59b7e7bede0798695f Account(#8608f4e9f8af4e59b7e7bede0798695f)\n",
      "d79e16d1104947d39fe24e37081eb506 Account(#d79e16d1104947d39fe24e37081eb506)\n",
      "e4577fb036ae48eba8dccb85684a5acc Account(#e4577fb036ae48eba8dccb85684a5acc)\n",
      "1fa0760e5198420b8377715dd84d9b11 Account(#1fa0760e5198420b8377715dd84d9b11)\n",
      "10dce93692ac459aa270c04839fdfa82 Account(#10dce93692ac459aa270c04839fdfa82)\n",
      "00beb4a866fc4d25a835b34842f04d30 Account(#00beb4a866fc4d25a835b34842f04d30)\n",
      "d2b5a50d3f164faab4983aa7b1f424ba Account(#d2b5a50d3f164faab4983aa7b1f424ba)\n",
      "0d9ae4593e16427683745be147ed0aa7 Account(#0d9ae4593e16427683745be147ed0aa7)\n",
      "85a32b2c7f1a44cf864db8b90f57eb0b Account(#85a32b2c7f1a44cf864db8b90f57eb0b)\n",
      "7a848c0ebec54ae4baef3786d0325598 Account(#7a848c0ebec54ae4baef3786d0325598)\n",
      "4db8f9c2fc3f410c814df193c1ed3a90 Account(#4db8f9c2fc3f410c814df193c1ed3a90)\n",
      "33aa73e57ec14974a6023dae909856f1 Account(#33aa73e57ec14974a6023dae909856f1)\n",
      "37cf60026e934dc9ac1d54582265fc9b Account(#37cf60026e934dc9ac1d54582265fc9b)\n",
      "e0b95b201d0f47cb89c0b31ddcc8efd6 Account(#e0b95b201d0f47cb89c0b31ddcc8efd6)\n",
      "5a6bd08ac6a24dff9b65162dcfb06867 Account(#5a6bd08ac6a24dff9b65162dcfb06867)\n",
      "584ad7f88f6044e9842e08be0fd3b88a Account(#584ad7f88f6044e9842e08be0fd3b88a)\n",
      "f868b936fcf5402c8187708a9728cef4 Account(#f868b936fcf5402c8187708a9728cef4)\n",
      "16f1bc6c01be438f8e53379f59d615af Account(#16f1bc6c01be438f8e53379f59d615af)\n",
      "43e61d1af5064ef4843727d88e908d2f Account(#43e61d1af5064ef4843727d88e908d2f)\n",
      "374ff4bc112c442ab7326b590dc09c49 Account(#374ff4bc112c442ab7326b590dc09c49)\n",
      "6d59c81fe89c4812a12b9f1f80802eed Account(#6d59c81fe89c4812a12b9f1f80802eed)\n",
      "3ba7dff47392477d835896910554d995 Account(#3ba7dff47392477d835896910554d995)\n",
      "f30902553946461c857545694b973caf Account(#f30902553946461c857545694b973caf)\n",
      "8fa3b7ac0d11417e8942630dc9fee137 Account(#8fa3b7ac0d11417e8942630dc9fee137)\n",
      "ba94283a25d440ebb66132a288e021b0 Account(#ba94283a25d440ebb66132a288e021b0)\n",
      "bd520186c2f049688dcba3ed9b38875e Account(#bd520186c2f049688dcba3ed9b38875e)\n",
      "d396e218b9b44b1a9ab3a1790277bf6f Account(#d396e218b9b44b1a9ab3a1790277bf6f)\n",
      "4ac07aeac18f4c7398be80fdf38c86dc Account(#4ac07aeac18f4c7398be80fdf38c86dc)\n",
      "461be81a87004bae95e0e80a10449983 Account(#461be81a87004bae95e0e80a10449983)\n",
      "9f2345dc5bfb4d038f0127bb1ba8d53f Account(#9f2345dc5bfb4d038f0127bb1ba8d53f)\n",
      "1c11eb96a0084b97af184bf58f35c240 Account(#1c11eb96a0084b97af184bf58f35c240)\n",
      "46ac5c29487a44d5bdd15bc36a001410 Account(#46ac5c29487a44d5bdd15bc36a001410)\n",
      "5725e0d6d15a4d9ebea80d89e57dc4a9 Account(#5725e0d6d15a4d9ebea80d89e57dc4a9)\n",
      "bd06ebd9d615495a99fa44337709bcc6 Account(#bd06ebd9d615495a99fa44337709bcc6)\n",
      "4653c876d28540f78df392a170e9efb9 Account(#4653c876d28540f78df392a170e9efb9)\n",
      "bbe4f00d078b4d69946699b4387693d2 Account(#bbe4f00d078b4d69946699b4387693d2)\n",
      "df065e865327431cb697b560ed4b1b29 Account(#df065e865327431cb697b560ed4b1b29)\n",
      "e08c85b8085240cdbd0bafa0bf207dd1 Account(#e08c85b8085240cdbd0bafa0bf207dd1)\n",
      "d42f03eb07b34115b5dda369306cfa01 Account(#d42f03eb07b34115b5dda369306cfa01)\n",
      "807199d544944d80af3329eaf88378de Account(#807199d544944d80af3329eaf88378de)\n",
      "7149b4e977904cb98272687ff184024c Account(#7149b4e977904cb98272687ff184024c)\n",
      "9c5e8fbf433640ac9538bc5172029a4c Account(#9c5e8fbf433640ac9538bc5172029a4c)\n",
      "e7a9b8f8e67a4f3d8ccd348fd86296ac Account(#e7a9b8f8e67a4f3d8ccd348fd86296ac)\n",
      "15628e6c1a274ff2aba559e1b371faf9 Account(#15628e6c1a274ff2aba559e1b371faf9)\n",
      "b3852f0dfd2d4c99af18556860df6db8 Account(#b3852f0dfd2d4c99af18556860df6db8)\n",
      "1acf953f1d4d47969ea200074ea5c104 Account(#1acf953f1d4d47969ea200074ea5c104)\n",
      "d067132daecb453ab0fcbd0e2eebd7ad Account(#d067132daecb453ab0fcbd0e2eebd7ad)\n",
      "d98564a03af24c23b31aa88ef4e99188 Account(#d98564a03af24c23b31aa88ef4e99188)\n",
      "95f743c60e0b42d788a6a949d5d0b825 Account(#95f743c60e0b42d788a6a949d5d0b825)\n",
      "23895bf4642e41448969b0bb897fef49 Account(#23895bf4642e41448969b0bb897fef49)\n",
      "d460ef8176934af9a1dbac951a9d8e77 Account(#d460ef8176934af9a1dbac951a9d8e77)\n",
      "28b98cb0ffc4425aa2bfc96322b26f95 Account(#28b98cb0ffc4425aa2bfc96322b26f95)\n",
      "ad4bf5163ab6498ba9ab12ed94a028ac Account(#ad4bf5163ab6498ba9ab12ed94a028ac)\n",
      "d73332f0fbe841d281cb839b2043479b Account(#d73332f0fbe841d281cb839b2043479b)\n",
      "ae9f0c44cc3f4c6fbe1ee0292d373235 Account(#ae9f0c44cc3f4c6fbe1ee0292d373235)\n",
      "16161a5d5505425a822529253415bd5d Account(#16161a5d5505425a822529253415bd5d)\n",
      "465927d9626745f09fd2b18f8a597cfb Account(#465927d9626745f09fd2b18f8a597cfb)\n",
      "35fd3a7c2dbc454bb02d78e63450b1bd Account(#35fd3a7c2dbc454bb02d78e63450b1bd)\n",
      "aeb249e6f6e84f55acbac4dcc2276344 Account(#aeb249e6f6e84f55acbac4dcc2276344)\n",
      "44cf4f87e6504de1bc8366b89bd1757c Account(#44cf4f87e6504de1bc8366b89bd1757c)\n",
      "1b655b9f89a44602b5cea40e0d836733 Account(#1b655b9f89a44602b5cea40e0d836733)\n",
      "951f145a6c4141b0a6d142b1fb9b114b Account(#951f145a6c4141b0a6d142b1fb9b114b)\n",
      "edabbd556fc7478592ea7cd61e84f0ed Account(#edabbd556fc7478592ea7cd61e84f0ed)\n",
      "fe332837ef184166bfdb5a4154baf64e Account(#fe332837ef184166bfdb5a4154baf64e)\n",
      "345df78e66d84435b0bf1d70d818f3d7 Account(#345df78e66d84435b0bf1d70d818f3d7)\n",
      "741e0b3c63f44d09a605009a964c58dd Account(#741e0b3c63f44d09a605009a964c58dd)\n",
      "89edb31022124915a65e4b8f30c32025 Account(#89edb31022124915a65e4b8f30c32025)\n",
      "bc9f64107e13465884909744f7803a0e Account(#bc9f64107e13465884909744f7803a0e)\n",
      "fce0a1c262a74dce82914067b58a2f4d Account(#fce0a1c262a74dce82914067b58a2f4d)\n",
      "ea481b3e0ab34b9b8b33673f72f7020c Account(#ea481b3e0ab34b9b8b33673f72f7020c)\n",
      "77b1ea99f2c24cd69ab8ed3f00539612 Account(#77b1ea99f2c24cd69ab8ed3f00539612)\n"
     ]
    }
   ],
   "source": [
    "for id, node in client.local_db.nodes.items():\n",
    "    print(id, node)\n",
    "\n",
    "#client.get_edges(\"e7bae27fbd5a45908d106b08b4091e1e\")"
   ]
  }
 ],
 "metadata": {
  "kernelspec": {
   "display_name": "memri",
   "language": "python",
   "name": "python3"
  },
  "language_info": {
   "codemirror_mode": {
    "name": "ipython",
    "version": 3
   },
   "file_extension": ".py",
   "mimetype": "text/x-python",
   "name": "python",
   "nbconvert_exporter": "python",
   "pygments_lexer": "ipython3",
   "version": "3.9.15"
  },
  "orig_nbformat": 4,
  "vscode": {
   "interpreter": {
    "hash": "b335572f94bb4f6c09c6c43400662bee5d9729e55354783f1c63d7f90e83810b"
   }
  }
 },
 "nbformat": 4,
 "nbformat_minor": 2
}
